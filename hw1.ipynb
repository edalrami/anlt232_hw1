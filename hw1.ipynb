{
 "cells": [
  {
   "cell_type": "code",
   "execution_count": 6,
   "metadata": {},
   "outputs": [
    {
     "name": "stdout",
     "output_type": "stream",
     "text": [
      "C:\\Users\\edalr\\Desktop\\school\\dataviz\\homework\\anlt232_hw1\\suicide-rates-overview-1985-to-2016\n"
     ]
    }
   ],
   "source": [
    "import matplotlib.pyplot as plt\n",
    "import pandas as pd\n",
    "import numpy as np\n",
    "from pandas import DataFrame\n",
    "import os\n",
    "\n",
    "#set the working directory\n",
    "os.chdir('./suicide-rates-overview-1985-to-2016')\n",
    "\n",
    "path = os.getcwd()\n",
    "print(path)"
   ]
  },
  {
   "cell_type": "code",
   "execution_count": 7,
   "metadata": {},
   "outputs": [
    {
     "name": "stdout",
     "output_type": "stream",
     "text": [
      "['country', 'year', 'sex', 'age', 'suicides_no', 'population', 'suicides/100k pop', 'country-year', 'HDI for year', ' gdp_for_year ($) ', 'gdp_per_capita ($)', 'generation']\n"
     ]
    }
   ],
   "source": [
    "data = DataFrame(pd.read_csv(\"master.csv\"))\n",
    "col_names = list(data.columns.values)\n",
    "print(col_names)"
   ]
  },
  {
   "cell_type": "code",
   "execution_count": 8,
   "metadata": {},
   "outputs": [
    {
     "name": "stdout",
     "output_type": "stream",
     "text": [
      "   country  year     sex          age  suicides_no  population  \\\n",
      "0  Albania  1987    male  15-24 years           21      312900   \n",
      "1  Albania  1987    male  35-54 years           16      308000   \n",
      "2  Albania  1987  female  15-24 years           14      289700   \n",
      "3  Albania  1987    male    75+ years            1       21800   \n",
      "4  Albania  1987    male  25-34 years            9      274300   \n",
      "\n",
      "   suicides/100k pop country-year  HDI for year  gdp_for_year ($)   \\\n",
      "0               6.71  Albania1987           NaN      2,156,624,900   \n",
      "1               5.19  Albania1987           NaN      2,156,624,900   \n",
      "2               4.83  Albania1987           NaN      2,156,624,900   \n",
      "3               4.59  Albania1987           NaN      2,156,624,900   \n",
      "4               3.28  Albania1987           NaN      2,156,624,900   \n",
      "\n",
      "   gdp_per_capita ($)       generation  \n",
      "0                 796     Generation X  \n",
      "1                 796           Silent  \n",
      "2                 796     Generation X  \n",
      "3                 796  G.I. Generation  \n",
      "4                 796          Boomers  \n"
     ]
    }
   ],
   "source": [
    "print(data.head())"
   ]
  },
  {
   "cell_type": "markdown",
   "metadata": {},
   "source": [
    "<b><font color=\"blue\" size = 4>VARIABLE DESCRIPTIONS</font></b>\n",
    "include variable descriptions here..."
   ]
  },
  {
   "cell_type": "code",
   "execution_count": 11,
   "metadata": {},
   "outputs": [
    {
     "data": {
      "text/plain": [
       "(27820, 12)"
      ]
     },
     "execution_count": 11,
     "metadata": {},
     "output_type": "execute_result"
    }
   ],
   "source": [
    "data.shape"
   ]
  },
  {
   "cell_type": "code",
   "execution_count": 30,
   "metadata": {},
   "outputs": [
    {
     "data": {
      "image/png": "[encoded data removed]",
      "text/plain": [
       "<Figure size 648x432 with 1 Axes>"
      ]
     },
     "metadata": {
      "needs_background": "light"
     },
     "output_type": "display_data"
    }
   ],
   "source": [
    "jupyter_figsize = (9,6)\n",
    "fig, ax = plt.subplots(figsize = jupyter_figsize)\n",
    "plt.hist(data['year'], bins = 31)\n",
    "plt.suptitle('Histogram', fontsize = 20)\n",
    "plt.xlabel('year')\n",
    "ax.set_xlim([1980,2020])\n",
    "plt.xticks()\n",
    "plt.show()"
   ]
  },
  {
   "cell_type": "code",
   "execution_count": null,
   "metadata": {},
   "outputs": [],
   "source": []
  }
 ],
 "metadata": {
  "kernelspec": {
   "display_name": "Python 3",
   "language": "python",
   "name": "python3"
  },
  "language_info": {
   "codemirror_mode": {
    "name": "ipython",
    "version": 3
   },
   "file_extension": ".py",
   "mimetype": "text/x-python",
   "name": "python",
   "nbconvert_exporter": "python",
   "pygments_lexer": "ipython3",
   "version": "3.6.6"
  }
 },
 "nbformat": 4,
 "nbformat_minor": 2
}
